{
 "cells": [
  {
   "cell_type": "code",
   "execution_count": 1,
   "metadata": {},
   "outputs": [],
   "source": [
    "from nltk.tokenize import RegexpTokenizer\n",
    "from nltk.stem import PorterStemmer\n",
    "from nltk.stem.wordnet import WordNetLemmatizer\n",
    "from nltk.stem.porter import PorterStemmer\n",
    "from sklearn.feature_extraction.text import CountVectorizer, TfidfVectorizer\n",
    "import numpy as np\n",
    "import time\n",
    "from sklearn import svm\n",
    "from sklearn.metrics import recall_score, f1_score, precision_score, accuracy_score\n",
    "import nltk\n",
    "from nltk.corpus import stopwords"
   ]
  },
  {
   "cell_type": "code",
   "execution_count": 2,
   "metadata": {},
   "outputs": [
    {
     "name": "stderr",
     "output_type": "stream",
     "text": [
      "[nltk_data] Downloading package punkt to\n",
      "[nltk_data]     C:\\Users\\Alienware\\AppData\\Roaming\\nltk_data...\n",
      "[nltk_data]   Package punkt is already up-to-date!\n",
      "[nltk_data] Downloading package stopwords to\n",
      "[nltk_data]     C:\\Users\\Alienware\\AppData\\Roaming\\nltk_data...\n",
      "[nltk_data]   Package stopwords is already up-to-date!\n",
      "[nltk_data] Downloading package wordnet to\n",
      "[nltk_data]     C:\\Users\\Alienware\\AppData\\Roaming\\nltk_data...\n",
      "[nltk_data]   Package wordnet is already up-to-date!\n",
      "[nltk_data] Downloading package averaged_perceptron_tagger to\n",
      "[nltk_data]     C:\\Users\\Alienware\\AppData\\Roaming\\nltk_data...\n",
      "[nltk_data]   Package averaged_perceptron_tagger is already up-to-\n",
      "[nltk_data]       date!\n"
     ]
    },
    {
     "data": {
      "text/plain": [
       "True"
      ]
     },
     "execution_count": 2,
     "metadata": {},
     "output_type": "execute_result"
    }
   ],
   "source": [
    "nltk.download('punkt')\n",
    "nltk.download('stopwords')\n",
    "nltk.download('wordnet')\n",
    "nltk.download('averaged_perceptron_tagger')"
   ]
  },
  {
   "cell_type": "code",
   "execution_count": 3,
   "metadata": {},
   "outputs": [],
   "source": [
    "train_data = []  # 16659\n",
    "test_data = []  # 810"
   ]
  },
  {
   "cell_type": "code",
   "execution_count": 4,
   "metadata": {},
   "outputs": [
    {
     "name": "stdout",
     "output_type": "stream",
     "text": [
      "Reading files...\n",
      "\n",
      "\n",
      "\" 5 . Science includes such diverse fields as astronomy , biology , computer sciences , geology , logic , physics , chemistry , and mathematics ( [ link ] ) .\"\t\"0\"\n",
      "\n",
      "\" 2 . It becomes clear from this definition that the application of the scientific method plays a major role in science .\"\t\"0\"\n",
      "\n",
      "\n",
      "\n",
      "Files get!...\n"
     ]
    }
   ],
   "source": [
    "'''读取文件'''\n",
    "print('Reading files...')\n",
    "print('\\n')\n",
    "train_f = open(\"train.txt\", encoding='utf-8')\n",
    "for line in train_f:\n",
    "    train_data.append(line)\n",
    "train_f.close()\n",
    "\n",
    "test_f = open(\"test.txt\", encoding='utf-8')\n",
    "for line in test_f:\n",
    "    test_data.append(line)\n",
    "test_f.close()\n",
    "print(train_data[0])\n",
    "print(test_data[0])\n",
    "print('\\n')\n",
    "print('Files get!...')"
   ]
  },
  {
   "cell_type": "code",
   "execution_count": 5,
   "metadata": {},
   "outputs": [
    {
     "name": "stdout",
     "output_type": "stream",
     "text": [
      "Formatting...\n",
      "\n",
      "\n",
      "['Science includes such diverse fields as astronomy , biology , computer sciences , geology , logic , physics , chemistry , and mathematics ( [ link ] )', '0']\n",
      "['It becomes clear from this definition that the application of the scientific method plays a major role in science', '0']\n",
      "\n",
      "\n",
      "All data sets are formatted!\n"
     ]
    }
   ],
   "source": [
    "'''去掉开头序号-> [[句子(单词间以,为分割)], 0/1]'''\n",
    "print('Formatting...')\n",
    "print('\\n')\n",
    "train_set = []\n",
    "for unit in train_data:\n",
    "    temp = unit.split(' ')\n",
    "    if temp[1].isdigit():\n",
    "        # 判断第一个字符是否为数字，如果是则去掉，如果不是则取句子\n",
    "        temp = temp[3:-1]\n",
    "        # 当前temp中的最后一部分为\"\\t.\\n\",\"最后一个引号\" 为了保证格式规范，先去掉，最后在取corpus的时候加上句号即可\n",
    "        # training_set.append(([temp, unit[-3:-2]]))\n",
    "        train_set.append([' '.join(temp), unit[-3:-2]])\n",
    "        # unit[-3:-2]为当前句子的label\n",
    "    else:\n",
    "        # temp[1]为引号，应去掉\n",
    "        temp = temp[1:-1]\n",
    "        # training_set.append(([temp, unit[-3:-2]]))\n",
    "        train_set.append([' '.join(temp), unit[-3:-2]])\n",
    "\n",
    "test_set = []\n",
    "for unit in test_data:\n",
    "    temp = unit.split(' ')\n",
    "    if temp[1].isdigit():\n",
    "        temp = temp[3:-1]\n",
    "        # training_set.append(([temp, unit[-3:-2]]))\n",
    "        test_set.append([' '.join(temp), unit[-3:-2]])\n",
    "    else:\n",
    "        temp = temp[1:-1]\n",
    "        # training_set.append(([temp, unit[-3:-2]]))\n",
    "        test_set.append([' '.join(temp), unit[-3:-2]])\n",
    "\n",
    "print(train_set[0])\n",
    "print(test_set[0])\n",
    "print('\\n')\n",
    "print('All data sets are formatted!')"
   ]
  },
  {
   "cell_type": "code",
   "execution_count": 6,
   "metadata": {},
   "outputs": [
    {
     "name": "stdout",
     "output_type": "stream",
     "text": [
      "Tokenizeing...\n",
      "\n",
      "\n",
      "[['Science', 'includes', 'such', 'diverse', 'fields', 'as', 'astronomy', ',', 'biology', ',', 'computer', 'sciences', ',', 'geology', ',', 'logic', ',', 'physics', ',', 'chemistry', ',', 'and', 'mathematics', '(', '[', 'link', ']', ')'], '0']\n",
      "[['It', 'becomes', 'clear', 'from', 'this', 'definition', 'that', 'the', 'application', 'of', 'the', 'scientific', 'method', 'plays', 'a', 'major', 'role', 'in', 'science'], '0']\n",
      "\n",
      "\n",
      "Tokenization completed!\n"
     ]
    }
   ],
   "source": [
    "print('Tokenizeing...')\n",
    "print('\\n')\n",
    "\n",
    "def tokenize(data):\n",
    "    res = []\n",
    "    for samples in data:\n",
    "        # nltk.word_tokenize用于取tokens\n",
    "        temp_t = nltk.word_tokenize(samples[0])\n",
    "        res.append([temp_t, samples[1]])\n",
    "    return res\n",
    "\n",
    "\n",
    "train_set = tokenize(train_set)\n",
    "test_set = tokenize(test_set)\n",
    "print(train_set[0])\n",
    "print(test_set[0])\n",
    "print('\\n')\n",
    "print('Tokenization completed!')"
   ]
  },
  {
   "cell_type": "code",
   "execution_count": 7,
   "metadata": {},
   "outputs": [
    {
     "name": "stdout",
     "output_type": "stream",
     "text": [
      "Removing stopwords...\n",
      "\n",
      "\n",
      "[['Science', 'includes', 'diverse', 'fields', 'astronomy', ',', 'biology', ',', 'computer', 'sciences', ',', 'geology', ',', 'logic', ',', 'physics', ',', 'chemistry', ',', 'mathematics', '(', '[', 'link', ']', ')'], '0']\n",
      "[['It', 'becomes', 'clear', 'definition', 'application', 'scientific', 'method', 'plays', 'major', 'role', 'science'], '0']\n",
      "\n",
      "\n",
      "Stopwords removed!\n"
     ]
    }
   ],
   "source": [
    "print('Removing stopwords...')\n",
    "print('\\n')\n",
    "stop_words = set(stopwords.words(\"english\"))\n",
    "# stop_words为英文所有stop words的集合\n",
    "\n",
    "\n",
    "def Remove_stopwords(data):\n",
    "    res = []\n",
    "    temp = []\n",
    "    for sets in data:\n",
    "        for w in sets[0]:\n",
    "            # 如果对于句子中任意一个单词不属于stop_words则将其加入新的dataset\n",
    "            if w not in stop_words:\n",
    "                temp.append(w)\n",
    "        res.append([temp, sets[1]])\n",
    "        temp = []\n",
    "\n",
    "    return res\n",
    "\n",
    "\n",
    "train_set = Remove_stopwords(train_set)\n",
    "test_set = Remove_stopwords(test_set)\n",
    "print(train_set[0])\n",
    "print(test_set[0])\n",
    "print('\\n')\n",
    "print('Stopwords removed!')"
   ]
  },
  {
   "cell_type": "code",
   "execution_count": 8,
   "metadata": {},
   "outputs": [
    {
     "name": "stdout",
     "output_type": "stream",
     "text": [
      "Stemming...\n",
      "\n",
      "\n",
      "[['scienc', 'includ', 'divers', 'field', 'astronomi', ',', 'biolog', ',', 'comput', 'scienc', ',', 'geolog', ',', 'logic', ',', 'physic', ',', 'chemistri', ',', 'mathemat', '(', '[', 'link', ']', ')'], '0']\n",
      "[['It', 'becom', 'clear', 'definit', 'applic', 'scientif', 'method', 'play', 'major', 'role', 'scienc'], '0']\n",
      "\n",
      "\n",
      "Stemming completed!\n"
     ]
    }
   ],
   "source": [
    "print('Stemming...')\n",
    "print('\\n')\n",
    "ps = PorterStemmer()\n",
    "\n",
    "\n",
    "def Stemming(data):\n",
    "    res = []\n",
    "    stemmed_words_temp = []\n",
    "    for units in data:\n",
    "        for w in units[0]:\n",
    "            #ps.stem(w):对当前单词w取stem word\n",
    "            stemmed_words_temp.append(ps.stem(w))\n",
    "\n",
    "        res.append([stemmed_words_temp, units[1]])\n",
    "        stemmed_words_temp = []\n",
    "    return res\n",
    "\n",
    "\n",
    "train_set = Stemming(train_set)\n",
    "test_set = Stemming(test_set)\n",
    "print(train_set[0])\n",
    "print(test_set[0])\n",
    "print('\\n')\n",
    "print('Stemming completed!')"
   ]
  },
  {
   "cell_type": "code",
   "execution_count": 9,
   "metadata": {},
   "outputs": [
    {
     "name": "stdout",
     "output_type": "stream",
     "text": [
      "Lemmatization...\n",
      "\n",
      "\n",
      "[['scienc', 'includ', 'divers', 'field', 'astronomi', ',', 'biolog', ',', 'comput', 'scienc', ',', 'geolog', ',', 'logic', ',', 'physic', ',', 'chemistri', ',', 'mathemat', '(', '[', 'link', ']', ')'], '0']\n",
      "[['It', 'becom', 'clear', 'definit', 'applic', 'scientif', 'method', 'play', 'major', 'role', 'scienc'], '0']\n",
      "\n",
      "\n",
      "Lemmatization completed!\n"
     ]
    }
   ],
   "source": [
    "print('Lemmatization...')\n",
    "print('\\n')\n",
    "lem = WordNetLemmatizer()\n",
    "stem = PorterStemmer()\n",
    "\n",
    "\n",
    "def Lemmatization(data):\n",
    "    lem_words_temp = []\n",
    "    res = []\n",
    "    for atoms in data:\n",
    "        for w in atoms[0]:\n",
    "            #lem.lemmatize(w, \"v\"): 对当前单词w取Lemmatization\n",
    "            lem_words_temp.append(lem.lemmatize(w, \"v\"))\n",
    "        res.append([lem_words_temp, atoms[1]])\n",
    "        lem_words_temp = []\n",
    "\n",
    "    return res\n",
    "\n",
    "\n",
    "train_set = Lemmatization(train_set)\n",
    "test_set = Lemmatization(test_set)\n",
    "print(train_set[0])\n",
    "print(test_set[0])\n",
    "print('\\n')\n",
    "print('Lemmatization completed!')"
   ]
  },
  {
   "cell_type": "code",
   "execution_count": 10,
   "metadata": {},
   "outputs": [
    {
     "name": "stdout",
     "output_type": "stream",
     "text": [
      "Corpus and labels gathering...\n",
      "\n",
      "\n",
      "len of corpus_sum: 17469\n",
      "['scienc includ divers field astronomi , biolog , comput scienc , geolog , logic , physic , chemistri , mathemat ( [ link ] ).', 'howev , field scienc relat physic world phenomena process consid natur scienc.', 'thu , museum natur scienc might contain item list.', 'In deduct reason , pattern think move opposit direct compar induct reason.', 'deduct reason form logic think use gener principl law forecast specif result.']\n",
      "['0' '1' '0' '0' '1']\n",
      "['0' '1' '0' '1' '1']\n",
      "(16659,)\n",
      "(810,)\n",
      "\n",
      "\n",
      "Corpus and labels get!\n"
     ]
    }
   ],
   "source": [
    "print('Corpus and labels gathering...')\n",
    "print('\\n')\n",
    "corpus_test = []\n",
    "corpus_train = []\n",
    "\n",
    "\n",
    "def Gathering_corpus(data):\n",
    "    res = []\n",
    "    temp_res = []\n",
    "    for aas in data:\n",
    "        #corpus中仅仅需要第一个unit，即句子\n",
    "        temp_res.append(aas[0])\n",
    "\n",
    "    for aaas in temp_res:\n",
    "        # 对于scikit-learn中的vectorizer，corpus必须为一句一句话的集合，而并非tokens。所以这里必须join然后加上句号。\n",
    "        temp_ff = ' '.join(aaas)\n",
    "        temp_ff = temp_ff + '.'\n",
    "        res.append(temp_ff)\n",
    "    return res\n",
    "\n",
    "\n",
    "corpus_train = Gathering_corpus(train_set)\n",
    "corpus_test = Gathering_corpus(test_set)\n",
    "# train和test的corpus之和，成为corpus_sum\n",
    "corpus_sum = []\n",
    "corpus_sum = corpus_train\n",
    "for things in corpus_test:\n",
    "    corpus_sum.append(things)\n",
    "print('len of corpus_sum:', len(corpus_sum))\n",
    "print(corpus_sum[:5])\n",
    "#取出label: Y_train and Y_test\n",
    "Y_train = []\n",
    "for thing in train_set:\n",
    "    Y_train.append(thing[1])\n",
    "Y_train = np.array(Y_train)\n",
    "Y_test = []\n",
    "for that in test_set:\n",
    "    Y_test.append(that[1])\n",
    "Y_test = np.array(Y_test)\n",
    "print(Y_train[:5])\n",
    "print(Y_test[:5])\n",
    "print(Y_train.shape)\n",
    "print(Y_test.shape)\n",
    "print('\\n')\n",
    "print('Corpus and labels get!')"
   ]
  },
  {
   "cell_type": "code",
   "execution_count": 11,
   "metadata": {},
   "outputs": [
    {
     "name": "stdout",
     "output_type": "stream",
     "text": [
      "tfidf processing...\n",
      "\n",
      "\n",
      "(16659, 14675)\n",
      "(810, 14675)\n",
      "(17469, 14675)\n",
      "\n",
      "\n",
      "tfidf get!\n"
     ]
    }
   ],
   "source": [
    "print('tfidf processing...')\n",
    "print('\\n')\n",
    "vectorizer_tfidf = TfidfVectorizer()\n",
    "X_tfidf = vectorizer_tfidf.fit_transform(corpus_sum)\n",
    "# print(X_tfidf)\n",
    "X_train_tfidf = X_tfidf[:16659]\n",
    "X_test_tfidf = X_tfidf[16659:17469]\n",
    "X_train_tfidf = X_train_tfidf.toarray()\n",
    "X_test_tfidf = X_test_tfidf.toarray()\n",
    "X_tfidf_arr = X_tfidf.toarray()\n",
    "print(X_train_tfidf.shape)\n",
    "print(X_test_tfidf.shape)\n",
    "print(X_tfidf_arr.shape)\n",
    "print('\\n')\n",
    "print('tfidf get!')"
   ]
  },
  {
   "cell_type": "code",
   "execution_count": 12,
   "metadata": {},
   "outputs": [],
   "source": [
    "from sklearn.naive_bayes import ComplementNB\n",
    "from sklearn.naive_bayes import GaussianNB"
   ]
  },
  {
   "cell_type": "code",
   "execution_count": 13,
   "metadata": {},
   "outputs": [],
   "source": [
    "CNB = ComplementNB()\n",
    "GNB = GaussianNB()"
   ]
  },
  {
   "cell_type": "code",
   "execution_count": 14,
   "metadata": {},
   "outputs": [
    {
     "data": {
      "text/plain": [
       "ComplementNB(alpha=1.0, class_prior=None, fit_prior=True, norm=False)"
      ]
     },
     "execution_count": 14,
     "metadata": {},
     "output_type": "execute_result"
    }
   ],
   "source": [
    "CNB.fit(X_train_tfidf, Y_train)"
   ]
  },
  {
   "cell_type": "code",
   "execution_count": 15,
   "metadata": {},
   "outputs": [
    {
     "data": {
      "text/plain": [
       "GaussianNB(priors=None, var_smoothing=1e-09)"
      ]
     },
     "execution_count": 15,
     "metadata": {},
     "output_type": "execute_result"
    }
   ],
   "source": [
    "GNB.fit(X_train_tfidf, Y_train)"
   ]
  },
  {
   "cell_type": "code",
   "execution_count": 16,
   "metadata": {},
   "outputs": [],
   "source": [
    "Y_hat_C = CNB.predict(X_test_tfidf)\n",
    "y_hat_G = GNB.predict(X_test_tfidf)"
   ]
  },
  {
   "cell_type": "code",
   "execution_count": 17,
   "metadata": {},
   "outputs": [
    {
     "name": "stdout",
     "output_type": "stream",
     "text": [
      "Scores of CNB:\n",
      "\n",
      "F1 score: 0.5464895635673624\n",
      "Precision: 0.5669291338582677\n",
      "Recall: 0.5274725274725275\n",
      "Accuracy: 0.7049382716049383\n"
     ]
    }
   ],
   "source": [
    "print('Scores of CNB:\\n')\n",
    "print('F1 score:', f1_score(Y_test, Y_hat_C, average='binary', pos_label='1'))\n",
    "print('Precision:', precision_score(Y_test, Y_hat_C, average='binary', pos_label='1'))\n",
    "print('Recall:', recall_score(Y_test, Y_hat_C, average='binary', pos_label='1'))\n",
    "print('Accuracy:', accuracy_score(Y_test, Y_hat_C))"
   ]
  },
  {
   "cell_type": "code",
   "execution_count": 18,
   "metadata": {},
   "outputs": [
    {
     "name": "stdout",
     "output_type": "stream",
     "text": [
      "Scores of GNB:\n",
      "\n",
      "F1 score: 0.5123595505617977\n",
      "Precision: 0.3695299837925446\n",
      "Recall: 0.8351648351648352\n",
      "Accuracy: 0.4641975308641975\n"
     ]
    }
   ],
   "source": [
    "print('Scores of GNB:\\n')\n",
    "print('F1 score:', f1_score(Y_test, y_hat_G, average='binary', pos_label='1'))\n",
    "print('Precision:', precision_score(Y_test, y_hat_G, average='binary', pos_label='1'))\n",
    "print('Recall:', recall_score(Y_test, y_hat_G, average='binary', pos_label='1'))\n",
    "print('Accuracy:', accuracy_score(Y_test, y_hat_G))"
   ]
  }
 ],
 "metadata": {
  "kernelspec": {
   "display_name": "Python 3",
   "language": "python",
   "name": "python3"
  },
  "language_info": {
   "codemirror_mode": {
    "name": "ipython",
    "version": 3
   },
   "file_extension": ".py",
   "mimetype": "text/x-python",
   "name": "python",
   "nbconvert_exporter": "python",
   "pygments_lexer": "ipython3",
   "version": "3.7.3"
  }
 },
 "nbformat": 4,
 "nbformat_minor": 2
}
