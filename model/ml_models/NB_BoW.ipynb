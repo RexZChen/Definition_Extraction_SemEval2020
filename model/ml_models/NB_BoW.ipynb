{
  "nbformat": 4,
  "nbformat_minor": 0,
  "metadata": {
    "colab": {
      "name": "NB.ipynb",
      "provenance": [],
      "machine_shape": "hm"
    },
    "kernelspec": {
      "name": "python3",
      "display_name": "Python 3"
    },
    "accelerator": "TPU"
  },
  "cells": [
    {
      "cell_type": "code",
      "metadata": {
        "id": "KtrGEBpa30ts",
        "colab_type": "code",
        "colab": {}
      },
      "source": [
        "from nltk.tokenize import RegexpTokenizer\n",
        "from nltk.stem import PorterStemmer\n",
        "from nltk.stem.wordnet import WordNetLemmatizer\n",
        "from nltk.stem.porter import PorterStemmer\n",
        "from sklearn.feature_extraction.text import CountVectorizer, TfidfVectorizer\n",
        "import numpy as np\n",
        "import time\n",
        "from sklearn import svm\n",
        "from sklearn.metrics import recall_score, f1_score, precision_score, accuracy_score\n",
        "import nltk\n",
        "from nltk.corpus import stopwords"
      ],
      "execution_count": 0,
      "outputs": []
    },
    {
      "cell_type": "code",
      "metadata": {
        "id": "jOucydqn4BfB",
        "colab_type": "code",
        "outputId": "c24f1787-5a32-452e-a006-1cefa045ff55",
        "colab": {
          "base_uri": "https://localhost:8080/",
          "height": 184
        }
      },
      "source": [
        "nltk.download('punkt')\n",
        "nltk.download('stopwords')\n",
        "nltk.download('wordnet')\n",
        "nltk.download('averaged_perceptron_tagger')"
      ],
      "execution_count": 2,
      "outputs": [
        {
          "output_type": "stream",
          "text": [
            "[nltk_data] Downloading package punkt to /root/nltk_data...\n",
            "[nltk_data]   Unzipping tokenizers/punkt.zip.\n",
            "[nltk_data] Downloading package stopwords to /root/nltk_data...\n",
            "[nltk_data]   Unzipping corpora/stopwords.zip.\n",
            "[nltk_data] Downloading package wordnet to /root/nltk_data...\n",
            "[nltk_data]   Unzipping corpora/wordnet.zip.\n",
            "[nltk_data] Downloading package averaged_perceptron_tagger to\n",
            "[nltk_data]     /root/nltk_data...\n",
            "[nltk_data]   Unzipping taggers/averaged_perceptron_tagger.zip.\n"
          ],
          "name": "stdout"
        },
        {
          "output_type": "execute_result",
          "data": {
            "text/plain": [
              "True"
            ]
          },
          "metadata": {
            "tags": []
          },
          "execution_count": 2
        }
      ]
    },
    {
      "cell_type": "code",
      "metadata": {
        "id": "UUVIcfOy36hW",
        "colab_type": "code",
        "colab": {}
      },
      "source": [
        "train_data = []  # 16659\n",
        "test_data = []  # 810"
      ],
      "execution_count": 0,
      "outputs": []
    },
    {
      "cell_type": "code",
      "metadata": {
        "id": "Y3wtTikT4ErV",
        "colab_type": "code",
        "outputId": "23d38663-fdee-47b0-8b96-4dd8d570b63b",
        "colab": {
          "base_uri": "https://localhost:8080/",
          "height": 204
        }
      },
      "source": [
        "'''读取文件'''\n",
        "print('Reading files...')\n",
        "print('\\n')\n",
        "train_f = open(\"train.txt\", encoding='utf-8')\n",
        "for line in train_f:\n",
        "    train_data.append(line)\n",
        "train_f.close()\n",
        "\n",
        "test_f = open(\"test.txt\", encoding='utf-8')\n",
        "for line in test_f:\n",
        "    test_data.append(line)\n",
        "test_f.close()\n",
        "print(train_data[0])\n",
        "print(test_data[0])\n",
        "print('\\n')\n",
        "print('Files get!...')"
      ],
      "execution_count": 4,
      "outputs": [
        {
          "output_type": "stream",
          "text": [
            "Reading files...\n",
            "\n",
            "\n",
            "\" 5 . Science includes such diverse fields as astronomy , biology , computer sciences , geology , logic , physics , chemistry , and mathematics ( [ link ] ) .\"\t\"0\"\n",
            "\n",
            "\" 2 . It becomes clear from this definition that the application of the scientific method plays a major role in science .\"\t\"0\"\n",
            "\n",
            "\n",
            "\n",
            "Files get!...\n"
          ],
          "name": "stdout"
        }
      ]
    },
    {
      "cell_type": "code",
      "metadata": {
        "id": "YZk7Oguq4H6d",
        "colab_type": "code",
        "outputId": "2ac9cea0-1eb7-49ee-fd91-6f7610c69bae",
        "colab": {
          "base_uri": "https://localhost:8080/",
          "height": 170
        }
      },
      "source": [
        "'''去掉开头序号-> [[句子(单词间以,为分割)], 0/1]'''\n",
        "print('Formatting...')\n",
        "print('\\n')\n",
        "train_set = []\n",
        "for unit in train_data:\n",
        "    temp = unit.split(' ')\n",
        "    if temp[1].isdigit():\n",
        "        # 判断第一个字符是否为数字，如果是则去掉，如果不是则取句子\n",
        "        temp = temp[3:-1]\n",
        "        # 当前temp中的最后一部分为\"\\t.\\n\",\"最后一个引号\" 为了保证格式规范，先去掉，最后在取corpus的时候加上句号即可\n",
        "        # training_set.append(([temp, unit[-3:-2]]))\n",
        "        train_set.append([' '.join(temp), unit[-3:-2]])\n",
        "        # unit[-3:-2]为当前句子的label\n",
        "    else:\n",
        "        # temp[1]为引号，应去掉\n",
        "        temp = temp[1:-1]\n",
        "        # training_set.append(([temp, unit[-3:-2]]))\n",
        "        train_set.append([' '.join(temp), unit[-3:-2]])\n",
        "\n",
        "test_set = []\n",
        "for unit in test_data:\n",
        "    temp = unit.split(' ')\n",
        "    if temp[1].isdigit():\n",
        "        temp = temp[3:-1]\n",
        "        # training_set.append(([temp, unit[-3:-2]]))\n",
        "        test_set.append([' '.join(temp), unit[-3:-2]])\n",
        "    else:\n",
        "        temp = temp[1:-1]\n",
        "        # training_set.append(([temp, unit[-3:-2]]))\n",
        "        test_set.append([' '.join(temp), unit[-3:-2]])\n",
        "\n",
        "print(train_set[0])\n",
        "print(test_set[0])\n",
        "print('\\n')\n",
        "print('All data sets are formatted!')"
      ],
      "execution_count": 5,
      "outputs": [
        {
          "output_type": "stream",
          "text": [
            "Formatting...\n",
            "\n",
            "\n",
            "['Science includes such diverse fields as astronomy , biology , computer sciences , geology , logic , physics , chemistry , and mathematics ( [ link ] )', '0']\n",
            "['It becomes clear from this definition that the application of the scientific method plays a major role in science', '0']\n",
            "\n",
            "\n",
            "All data sets are formatted!\n"
          ],
          "name": "stdout"
        }
      ]
    },
    {
      "cell_type": "code",
      "metadata": {
        "id": "8t33Sbfv4KYz",
        "colab_type": "code",
        "outputId": "f094361b-e96e-468e-bcf4-2af1302f6d3d",
        "colab": {
          "base_uri": "https://localhost:8080/",
          "height": 170
        }
      },
      "source": [
        "print('Tokenizeing...')\n",
        "print('\\n')\n",
        "\n",
        "def tokenize(data):\n",
        "    res = []\n",
        "    for samples in data:\n",
        "        # nltk.word_tokenize用于取tokens\n",
        "        temp_t = nltk.word_tokenize(samples[0])\n",
        "        res.append([temp_t, samples[1]])\n",
        "    return res\n",
        "\n",
        "\n",
        "train_set = tokenize(train_set)\n",
        "test_set = tokenize(test_set)\n",
        "print(train_set[0])\n",
        "print(test_set[0])\n",
        "print('\\n')\n",
        "print('Tokenization completed!')"
      ],
      "execution_count": 6,
      "outputs": [
        {
          "output_type": "stream",
          "text": [
            "Tokenizeing...\n",
            "\n",
            "\n",
            "[['Science', 'includes', 'such', 'diverse', 'fields', 'as', 'astronomy', ',', 'biology', ',', 'computer', 'sciences', ',', 'geology', ',', 'logic', ',', 'physics', ',', 'chemistry', ',', 'and', 'mathematics', '(', '[', 'link', ']', ')'], '0']\n",
            "[['It', 'becomes', 'clear', 'from', 'this', 'definition', 'that', 'the', 'application', 'of', 'the', 'scientific', 'method', 'plays', 'a', 'major', 'role', 'in', 'science'], '0']\n",
            "\n",
            "\n",
            "Tokenization completed!\n"
          ],
          "name": "stdout"
        }
      ]
    },
    {
      "cell_type": "code",
      "metadata": {
        "id": "XymOzIQX4MZy",
        "colab_type": "code",
        "outputId": "c28cf4ce-be66-4392-e46c-b029e065eb76",
        "colab": {
          "base_uri": "https://localhost:8080/",
          "height": 170
        }
      },
      "source": [
        "print('Removing stopwords...')\n",
        "print('\\n')\n",
        "stop_words = set(stopwords.words(\"english\"))\n",
        "# stop_words为英文所有stop words的集合\n",
        "\n",
        "\n",
        "def Remove_stopwords(data):\n",
        "    res = []\n",
        "    temp = []\n",
        "    for sets in data:\n",
        "        for w in sets[0]:\n",
        "            # 如果对于句子中任意一个单词不属于stop_words则将其加入新的dataset\n",
        "            if w not in stop_words:\n",
        "                temp.append(w)\n",
        "        res.append([temp, sets[1]])\n",
        "        temp = []\n",
        "\n",
        "    return res\n",
        "\n",
        "\n",
        "train_set = Remove_stopwords(train_set)\n",
        "test_set = Remove_stopwords(test_set)\n",
        "print(train_set[0])\n",
        "print(test_set[0])\n",
        "print('\\n')\n",
        "print('Stopwords removed!')"
      ],
      "execution_count": 7,
      "outputs": [
        {
          "output_type": "stream",
          "text": [
            "Removing stopwords...\n",
            "\n",
            "\n",
            "[['Science', 'includes', 'diverse', 'fields', 'astronomy', ',', 'biology', ',', 'computer', 'sciences', ',', 'geology', ',', 'logic', ',', 'physics', ',', 'chemistry', ',', 'mathematics', '(', '[', 'link', ']', ')'], '0']\n",
            "[['It', 'becomes', 'clear', 'definition', 'application', 'scientific', 'method', 'plays', 'major', 'role', 'science'], '0']\n",
            "\n",
            "\n",
            "Stopwords removed!\n"
          ],
          "name": "stdout"
        }
      ]
    },
    {
      "cell_type": "code",
      "metadata": {
        "id": "63C7RpvG4OHj",
        "colab_type": "code",
        "outputId": "c699b7cc-799a-41be-ec62-e6c6dfa69d91",
        "colab": {
          "base_uri": "https://localhost:8080/",
          "height": 170
        }
      },
      "source": [
        "print('Stemming...')\n",
        "print('\\n')\n",
        "ps = PorterStemmer()\n",
        "\n",
        "\n",
        "def Stemming(data):\n",
        "    res = []\n",
        "    stemmed_words_temp = []\n",
        "    for units in data:\n",
        "        for w in units[0]:\n",
        "            #ps.stem(w):对当前单词w取stem word\n",
        "            stemmed_words_temp.append(ps.stem(w))\n",
        "\n",
        "        res.append([stemmed_words_temp, units[1]])\n",
        "        stemmed_words_temp = []\n",
        "    return res\n",
        "\n",
        "\n",
        "train_set = Stemming(train_set)\n",
        "test_set = Stemming(test_set)\n",
        "print(train_set[0])\n",
        "print(test_set[0])\n",
        "print('\\n')\n",
        "print('Stemming completed!')"
      ],
      "execution_count": 8,
      "outputs": [
        {
          "output_type": "stream",
          "text": [
            "Stemming...\n",
            "\n",
            "\n",
            "[['scienc', 'includ', 'divers', 'field', 'astronomi', ',', 'biolog', ',', 'comput', 'scienc', ',', 'geolog', ',', 'logic', ',', 'physic', ',', 'chemistri', ',', 'mathemat', '(', '[', 'link', ']', ')'], '0']\n",
            "[['It', 'becom', 'clear', 'definit', 'applic', 'scientif', 'method', 'play', 'major', 'role', 'scienc'], '0']\n",
            "\n",
            "\n",
            "Stemming completed!\n"
          ],
          "name": "stdout"
        }
      ]
    },
    {
      "cell_type": "code",
      "metadata": {
        "id": "qC7bi3c44P5Q",
        "colab_type": "code",
        "outputId": "52df06ad-4fe9-4af3-9ec1-840ed5dced9d",
        "colab": {
          "base_uri": "https://localhost:8080/",
          "height": 170
        }
      },
      "source": [
        "print('Lemmatization...')\n",
        "print('\\n')\n",
        "lem = WordNetLemmatizer()\n",
        "stem = PorterStemmer()\n",
        "\n",
        "\n",
        "def Lemmatization(data):\n",
        "    lem_words_temp = []\n",
        "    res = []\n",
        "    for atoms in data:\n",
        "        for w in atoms[0]:\n",
        "            #lem.lemmatize(w, \"v\"): 对当前单词w取Lemmatization\n",
        "            lem_words_temp.append(lem.lemmatize(w, \"v\"))\n",
        "        res.append([lem_words_temp, atoms[1]])\n",
        "        lem_words_temp = []\n",
        "\n",
        "    return res\n",
        "\n",
        "\n",
        "train_set = Lemmatization(train_set)\n",
        "test_set = Lemmatization(test_set)\n",
        "print(train_set[0])\n",
        "print(test_set[0])\n",
        "print('\\n')\n",
        "print('Lemmatization completed!')"
      ],
      "execution_count": 9,
      "outputs": [
        {
          "output_type": "stream",
          "text": [
            "Lemmatization...\n",
            "\n",
            "\n",
            "[['scienc', 'includ', 'divers', 'field', 'astronomi', ',', 'biolog', ',', 'comput', 'scienc', ',', 'geolog', ',', 'logic', ',', 'physic', ',', 'chemistri', ',', 'mathemat', '(', '[', 'link', ']', ')'], '0']\n",
            "[['It', 'becom', 'clear', 'definit', 'applic', 'scientif', 'method', 'play', 'major', 'role', 'scienc'], '0']\n",
            "\n",
            "\n",
            "Lemmatization completed!\n"
          ],
          "name": "stdout"
        }
      ]
    },
    {
      "cell_type": "code",
      "metadata": {
        "id": "UsVJ-lME4RY1",
        "colab_type": "code",
        "outputId": "eebaddcd-d877-46a5-a7bf-bb6e354a44bd",
        "colab": {
          "base_uri": "https://localhost:8080/",
          "height": 237
        }
      },
      "source": [
        "print('Corpus and labels gathering...')\n",
        "print('\\n')\n",
        "corpus_test = []\n",
        "corpus_train = []\n",
        "\n",
        "\n",
        "def Gathering_corpus(data):\n",
        "    res = []\n",
        "    temp_res = []\n",
        "    for aas in data:\n",
        "        #corpus中仅仅需要第一个unit，即句子\n",
        "        temp_res.append(aas[0])\n",
        "\n",
        "    for aaas in temp_res:\n",
        "        # 对于scikit-learn中的vectorizer，corpus必须为一句一句话的集合，而并非tokens。所以这里必须join然后加上句号。\n",
        "        temp_ff = ' '.join(aaas)\n",
        "        temp_ff = temp_ff + '.'\n",
        "        res.append(temp_ff)\n",
        "    return res\n",
        "\n",
        "\n",
        "corpus_train = Gathering_corpus(train_set)\n",
        "corpus_test = Gathering_corpus(test_set)\n",
        "# train和test的corpus之和，成为corpus_sum\n",
        "corpus_sum = []\n",
        "corpus_sum = corpus_train\n",
        "for things in corpus_test:\n",
        "    corpus_sum.append(things)\n",
        "print('len of corpus_sum:', len(corpus_sum))\n",
        "print(corpus_sum[:5])\n",
        "#取出label: Y_train and Y_test\n",
        "Y_train = []\n",
        "for thing in train_set:\n",
        "    Y_train.append(thing[1])\n",
        "Y_train = np.array(Y_train)\n",
        "Y_test = []\n",
        "for that in test_set:\n",
        "    Y_test.append(that[1])\n",
        "Y_test = np.array(Y_test)\n",
        "print(Y_train[:5])\n",
        "print(Y_test[:5])\n",
        "print(Y_train.shape)\n",
        "print(Y_test.shape)\n",
        "print('\\n')\n",
        "print('Corpus and labels get!')"
      ],
      "execution_count": 10,
      "outputs": [
        {
          "output_type": "stream",
          "text": [
            "Corpus and labels gathering...\n",
            "\n",
            "\n",
            "len of corpus_sum: 17469\n",
            "['scienc includ divers field astronomi , biolog , comput scienc , geolog , logic , physic , chemistri , mathemat ( [ link ] ).', 'howev , field scienc relat physic world phenomena process consid natur scienc.', 'thu , museum natur scienc might contain item list.', 'In deduct reason , pattern think move opposit direct compar induct reason.', 'deduct reason form logic think use gener principl law forecast specif result.']\n",
            "['0' '1' '0' '0' '1']\n",
            "['0' '1' '0' '1' '1']\n",
            "(16659,)\n",
            "(810,)\n",
            "\n",
            "\n",
            "Corpus and labels get!\n"
          ],
          "name": "stdout"
        }
      ]
    },
    {
      "cell_type": "code",
      "metadata": {
        "id": "4wZ-qxfS4TKH",
        "colab_type": "code",
        "outputId": "a45fb66b-f5e2-4205-c15d-a4bc817fa114",
        "colab": {
          "base_uri": "https://localhost:8080/",
          "height": 167
        }
      },
      "source": [
        "print('BoW processing...')\n",
        "print('\\n')\n",
        "vectorizer_BoW = CountVectorizer()\n",
        "X_BoW = vectorizer_BoW.fit_transform(corpus_sum)\n",
        "X_train_BoW = X_BoW[:16659]\n",
        "X_test_BoW = X_BoW[16659:17469]\n",
        "X_train_BoW = X_train_BoW.toarray()\n",
        "X_test_BoW = X_test_BoW.toarray()\n",
        "X_BoW_arr = X_BoW.toarray()\n",
        "print(X_train_BoW.shape)\n",
        "print(X_test_BoW.shape)\n",
        "print(X_BoW_arr.shape)\n",
        "print('\\n')\n",
        "print('BoW get!')"
      ],
      "execution_count": 11,
      "outputs": [
        {
          "output_type": "stream",
          "text": [
            "BoW processing...\n",
            "\n",
            "\n",
            "(16659, 14675)\n",
            "(810, 14675)\n",
            "(17469, 14675)\n",
            "\n",
            "\n",
            "BoW get!\n"
          ],
          "name": "stdout"
        }
      ]
    },
    {
      "cell_type": "code",
      "metadata": {
        "id": "lZ2a9ijY4U6h",
        "colab_type": "code",
        "colab": {}
      },
      "source": [
        "from sklearn.naive_bayes import ComplementNB\n",
        "from sklearn.naive_bayes import GaussianNB"
      ],
      "execution_count": 0,
      "outputs": []
    },
    {
      "cell_type": "code",
      "metadata": {
        "id": "JEVszcjkl3N8",
        "colab_type": "code",
        "colab": {}
      },
      "source": [
        "CNB = ComplementNB()\n",
        "GNB = GaussianNB()"
      ],
      "execution_count": 0,
      "outputs": []
    },
    {
      "cell_type": "code",
      "metadata": {
        "id": "DxsNbgxRl4X9",
        "colab_type": "code",
        "colab": {
          "base_uri": "https://localhost:8080/",
          "height": 33
        },
        "outputId": "1fe91644-f811-477c-945b-d54a99131e83"
      },
      "source": [
        "CNB.fit(X_train_BoW, Y_train)"
      ],
      "execution_count": 14,
      "outputs": [
        {
          "output_type": "execute_result",
          "data": {
            "text/plain": [
              "ComplementNB(alpha=1.0, class_prior=None, fit_prior=True, norm=False)"
            ]
          },
          "metadata": {
            "tags": []
          },
          "execution_count": 14
        }
      ]
    },
    {
      "cell_type": "code",
      "metadata": {
        "id": "Ub0oK0zlmG8-",
        "colab_type": "code",
        "colab": {
          "base_uri": "https://localhost:8080/",
          "height": 33
        },
        "outputId": "edd208a6-6d8c-4824-d8de-f3ac75fe212d"
      },
      "source": [
        "GNB.fit(X_train_BoW, Y_train)"
      ],
      "execution_count": 15,
      "outputs": [
        {
          "output_type": "execute_result",
          "data": {
            "text/plain": [
              "GaussianNB(priors=None, var_smoothing=1e-09)"
            ]
          },
          "metadata": {
            "tags": []
          },
          "execution_count": 15
        }
      ]
    },
    {
      "cell_type": "code",
      "metadata": {
        "id": "7DkMR9_omJ_o",
        "colab_type": "code",
        "colab": {}
      },
      "source": [
        "Y_hat_C = CNB.predict(X_test_BoW)\n",
        "y_hat_G = GNB.predict(X_test_BoW)"
      ],
      "execution_count": 0,
      "outputs": []
    },
    {
      "cell_type": "code",
      "metadata": {
        "id": "I0kAsjfXmNiJ",
        "colab_type": "code",
        "colab": {
          "base_uri": "https://localhost:8080/",
          "height": 117
        },
        "outputId": "60b9e728-4e5d-4ec1-a3de-6a4c1dfe252a"
      },
      "source": [
        "print('Scores of CNB:\\n')\n",
        "print('F1 score:', f1_score(Y_test, Y_hat_C, average='binary', pos_label='1'))\n",
        "print('Precision:', precision_score(Y_test, Y_hat_C, average='binary', pos_label='1'))\n",
        "print('Recall:', recall_score(Y_test, Y_hat_C, average='binary', pos_label='1'))\n",
        "print('Accuracy:', accuracy_score(Y_test, Y_hat_C))"
      ],
      "execution_count": 17,
      "outputs": [
        {
          "output_type": "stream",
          "text": [
            "Scores of CNB:\n",
            "\n",
            "F1 score: 0.6132075471698114\n",
            "Precision: 0.5371900826446281\n",
            "Recall: 0.7142857142857143\n",
            "Accuracy: 0.6962962962962963\n"
          ],
          "name": "stdout"
        }
      ]
    },
    {
      "cell_type": "code",
      "metadata": {
        "id": "gzcQ6lGdmPds",
        "colab_type": "code",
        "colab": {
          "base_uri": "https://localhost:8080/",
          "height": 117
        },
        "outputId": "3e271fed-45d5-401c-fac4-31ce946ba39d"
      },
      "source": [
        "print('Scores of GNB:\\n')\n",
        "print('F1 score:', f1_score(Y_test, y_hat_G, average='binary', pos_label='1'))\n",
        "print('Precision:', precision_score(Y_test, y_hat_G, average='binary', pos_label='1'))\n",
        "print('Recall:', recall_score(Y_test, y_hat_G, average='binary', pos_label='1'))\n",
        "print('Accuracy:', accuracy_score(Y_test, y_hat_G))"
      ],
      "execution_count": 18,
      "outputs": [
        {
          "output_type": "stream",
          "text": [
            "Scores of GNB:\n",
            "\n",
            "F1 score: 0.5133928571428571\n",
            "Precision: 0.36918138041733545\n",
            "Recall: 0.8424908424908425\n",
            "Accuracy: 0.4617283950617284\n"
          ],
          "name": "stdout"
        }
      ]
    }
  ]
}