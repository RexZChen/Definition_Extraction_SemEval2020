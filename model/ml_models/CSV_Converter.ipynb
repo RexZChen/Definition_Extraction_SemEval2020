{
 "cells": [
  {
   "cell_type": "code",
   "execution_count": 1,
   "metadata": {},
   "outputs": [],
   "source": [
    "import pandas as pd"
   ]
  },
  {
   "cell_type": "code",
   "execution_count": 2,
   "metadata": {},
   "outputs": [],
   "source": [
    "train_data = []  # 16659\n",
    "test_data = []  # 810"
   ]
  },
  {
   "cell_type": "code",
   "execution_count": 3,
   "metadata": {},
   "outputs": [
    {
     "name": "stdout",
     "output_type": "stream",
     "text": [
      "Reading files...\n",
      "\n",
      "\n",
      "\" 5 . Science includes such diverse fields as astronomy , biology , computer sciences , geology , logic , physics , chemistry , and mathematics ( [ link ] ) .\"\t\"0\"\n",
      "\n",
      "\" 2 . It becomes clear from this definition that the application of the scientific method plays a major role in science .\"\t\"0\"\n",
      "\n",
      "\n",
      "\n",
      "Files get!...\n"
     ]
    }
   ],
   "source": [
    "'''读取文件'''\n",
    "print('Reading files...')\n",
    "print('\\n')\n",
    "train_f = open(\"train.txt\", encoding='utf-8')\n",
    "for line in train_f:\n",
    "    train_data.append(line)\n",
    "train_f.close()\n",
    "\n",
    "test_f = open(\"test.txt\", encoding='utf-8')\n",
    "for line in test_f:\n",
    "    test_data.append(line)\n",
    "test_f.close()\n",
    "print(train_data[0])\n",
    "print(test_data[0])\n",
    "print('\\n')\n",
    "print('Files get!...')"
   ]
  },
  {
   "cell_type": "code",
   "execution_count": 4,
   "metadata": {},
   "outputs": [
    {
     "name": "stdout",
     "output_type": "stream",
     "text": [
      "Formatting...\n",
      "\n",
      "\n",
      "['Science includes such diverse fields as astronomy , biology , computer sciences , geology , logic , physics , chemistry , and mathematics ( [ link ] )', '0']\n",
      "['It becomes clear from this definition that the application of the scientific method plays a major role in science', '0']\n",
      "\n",
      "\n",
      "All data sets are formatted!\n"
     ]
    }
   ],
   "source": [
    "'''去掉开头序号-> [[句子(单词间以,为分割)], 0/1]'''\n",
    "print('Formatting...')\n",
    "print('\\n')\n",
    "train_set = []\n",
    "for unit in train_data:\n",
    "    temp = unit.split(' ')\n",
    "    if temp[1].isdigit():\n",
    "        # 判断第一个字符是否为数字，如果是则去掉，如果不是则取句子\n",
    "        temp = temp[3:-1]\n",
    "        # 当前temp中的最后一部分为\"\\t.\\n\",\"最后一个引号\" 为了保证格式规范，先去掉，最后在取corpus的时候加上句号即可\n",
    "        # training_set.append(([temp, unit[-3:-2]]))\n",
    "        train_set.append([' '.join(temp), unit[-3:-2]])\n",
    "        # unit[-3:-2]为当前句子的label\n",
    "    else:\n",
    "        # temp[1]为引号，应去掉\n",
    "        temp = temp[1:-1]\n",
    "        # training_set.append(([temp, unit[-3:-2]]))\n",
    "        train_set.append([' '.join(temp), unit[-3:-2]])\n",
    "\n",
    "test_set = []\n",
    "for unit in test_data:\n",
    "    temp = unit.split(' ')\n",
    "    if temp[1].isdigit():\n",
    "        temp = temp[3:-1]\n",
    "        # training_set.append(([temp, unit[-3:-2]]))\n",
    "        test_set.append([' '.join(temp), unit[-3:-2]])\n",
    "    else:\n",
    "        temp = temp[1:-1]\n",
    "        # training_set.append(([temp, unit[-3:-2]]))\n",
    "        test_set.append([' '.join(temp), unit[-3:-2]])\n",
    "\n",
    "print(train_set[0])\n",
    "print(test_set[0])\n",
    "print('\\n')\n",
    "print('All data sets are formatted!')"
   ]
  },
  {
   "cell_type": "code",
   "execution_count": 6,
   "metadata": {},
   "outputs": [
    {
     "name": "stdout",
     "output_type": "stream",
     "text": [
      "Converting labels to Int()...\n",
      "\n",
      "['Science includes such diverse fields as astronomy , biology , computer sciences , geology , logic , physics , chemistry , and mathematics ( [ link ] )', 0]\n",
      "['It becomes clear from this definition that the application of the scientific method plays a major role in science', 0]\n",
      "\n",
      "Complete!\n"
     ]
    }
   ],
   "source": [
    "# label: str->int\n",
    "# for samples in train_set:\n",
    "#     print(samples)\n",
    "#     break\n",
    "print('Converting labels to Int()...\\n')\n",
    "def label2int(data):\n",
    "    res = []\n",
    "    temp_res = []\n",
    "    for samples in data:\n",
    "        sents = sample[0] + '.'\n",
    "        temp_res = [samples[0], int(samples[1])]\n",
    "        res.append(temp_res)\n",
    "    \n",
    "    return res\n",
    "\n",
    "train_set = label2int(train_set)\n",
    "test_set = label2int(test_set)\n",
    "print(train_set[0])\n",
    "print(test_set[0])\n",
    "print('\\nComplete!')"
   ]
  },
  {
   "cell_type": "code",
   "execution_count": 7,
   "metadata": {},
   "outputs": [
    {
     "name": "stdout",
     "output_type": "stream",
     "text": [
      "Science includes such diverse fields as astronomy , biology , computer sciences , geology , logic , physics , chemistry , and mathematics ( [ link ] )\n",
      "0\n",
      "It becomes clear from this definition that the application of the scientific method plays a major role in science\n",
      "0\n"
     ]
    }
   ],
   "source": [
    "sents_train = []\n",
    "labels_train = []\n",
    "for items in train_set:\n",
    "    sents_train.append(items[0])\n",
    "    labels_train.append(items[1])\n",
    "\n",
    "sents_test = []\n",
    "labels_test = []\n",
    "for stuff in test_set:\n",
    "    sents_test.append(stuff[0])\n",
    "    labels_test.append(stuff[1])\n",
    "\n",
    "print(sents_train[0])\n",
    "print(labels_train[0])\n",
    "print(sents_test[0])\n",
    "print(labels_test[0])"
   ]
  },
  {
   "cell_type": "code",
   "execution_count": null,
   "metadata": {},
   "outputs": [],
   "source": []
  }
 ],
 "metadata": {
  "kernelspec": {
   "display_name": "Python 3",
   "language": "python",
   "name": "python3"
  },
  "language_info": {
   "codemirror_mode": {
    "name": "ipython",
    "version": 3
   },
   "file_extension": ".py",
   "mimetype": "text/x-python",
   "name": "python",
   "nbconvert_exporter": "python",
   "pygments_lexer": "ipython3",
   "version": "3.7.3"
  }
 },
 "nbformat": 4,
 "nbformat_minor": 2
}
